{
 "cells": [
  {
   "cell_type": "code",
   "execution_count": 1,
   "source": [
    "#importando librerias en general\n",
    "import pandas as pd\n",
    "import numpy as np\n",
    "from time import time"
   ],
   "outputs": [],
   "metadata": {}
  },
  {
   "cell_type": "code",
   "execution_count": 2,
   "source": [
    "#cargando datasets\n",
    "dataPCA = pd.read_csv(\"PCA.csv\") #datos en el espacio de las pca\n",
    "dataNormalall = pd.read_csv(\"mnist_train_filtered.csv\")\n",
    "dataNormal = dataNormalall.iloc[:, 1:] #datos en el espacio original\n",
    "y = dataNormalall.iloc[:, 0] #variable respuesta"
   ],
   "outputs": [],
   "metadata": {}
  },
  {
   "cell_type": "code",
   "execution_count": 3,
   "source": [
    "#importing sklearn modules\n",
    "from sklearn.linear_model import SGDClassifier\n",
    "from sklearn.metrics import confusion_matrix, accuracy_score\n",
    "from sklearn.model_selection import GridSearchCV"
   ],
   "outputs": [],
   "metadata": {}
  },
  {
   "cell_type": "code",
   "execution_count": 27,
   "source": [
    "y.shape"
   ],
   "outputs": [
    {
     "output_type": "execute_result",
     "data": {
      "text/plain": [
       "(11872,)"
      ]
     },
     "metadata": {},
     "execution_count": 27
    }
   ],
   "metadata": {}
  },
  {
   "cell_type": "code",
   "execution_count": 29,
   "source": [
    "dataPCA.shape, dataNormal.shape"
   ],
   "outputs": [
    {
     "output_type": "execute_result",
     "data": {
      "text/plain": [
       "((11872, 154), (11872, 784))"
      ]
     },
     "metadata": {},
     "execution_count": 29
    }
   ],
   "metadata": {}
  },
  {
   "cell_type": "code",
   "execution_count": 7,
   "source": [
    "param_grid = {\"loss\": [\"hinge\", \"log\", \"perceptron\", \"squared_loss\", \"huber\", \"epsilon_insensitive\"],\n",
    "    \"penalty\": [\"l2\", \"l1\", \"elasticnet\"]\n",
    "}"
   ],
   "outputs": [],
   "metadata": {}
  },
  {
   "cell_type": "code",
   "execution_count": 8,
   "source": [
    "sgdc_PCA = SGDClassifier(random_state = 42)\n",
    "t1 = time()\n",
    "sgd_PCA = GridSearchCV(sgdc_PCA, param_grid, cv = 3, scoring = \"accuracy\", return_train_score= True)\n",
    "sgd_PCA.fit(dataNormal, y)\n",
    "t1f = time() - t1"
   ],
   "outputs": [
    {
     "output_type": "stream",
     "name": "stderr",
     "text": [
      "/usr/lib/python3.9/site-packages/sklearn/linear_model/_stochastic_gradient.py:574: ConvergenceWarning: Maximum number of iteration reached before convergence. Consider increasing max_iter to improve the fit.\n",
      "  warnings.warn(\"Maximum number of iteration reached before \"\n",
      "/usr/lib/python3.9/site-packages/sklearn/linear_model/_stochastic_gradient.py:574: ConvergenceWarning: Maximum number of iteration reached before convergence. Consider increasing max_iter to improve the fit.\n",
      "  warnings.warn(\"Maximum number of iteration reached before \"\n",
      "/usr/lib/python3.9/site-packages/sklearn/linear_model/_stochastic_gradient.py:574: ConvergenceWarning: Maximum number of iteration reached before convergence. Consider increasing max_iter to improve the fit.\n",
      "  warnings.warn(\"Maximum number of iteration reached before \"\n",
      "/usr/lib/python3.9/site-packages/sklearn/linear_model/_stochastic_gradient.py:574: ConvergenceWarning: Maximum number of iteration reached before convergence. Consider increasing max_iter to improve the fit.\n",
      "  warnings.warn(\"Maximum number of iteration reached before \"\n",
      "/usr/lib/python3.9/site-packages/sklearn/linear_model/_stochastic_gradient.py:574: ConvergenceWarning: Maximum number of iteration reached before convergence. Consider increasing max_iter to improve the fit.\n",
      "  warnings.warn(\"Maximum number of iteration reached before \"\n",
      "/usr/lib/python3.9/site-packages/sklearn/linear_model/_stochastic_gradient.py:574: ConvergenceWarning: Maximum number of iteration reached before convergence. Consider increasing max_iter to improve the fit.\n",
      "  warnings.warn(\"Maximum number of iteration reached before \"\n",
      "/usr/lib/python3.9/site-packages/sklearn/linear_model/_stochastic_gradient.py:574: ConvergenceWarning: Maximum number of iteration reached before convergence. Consider increasing max_iter to improve the fit.\n",
      "  warnings.warn(\"Maximum number of iteration reached before \"\n",
      "/usr/lib/python3.9/site-packages/sklearn/linear_model/_stochastic_gradient.py:574: ConvergenceWarning: Maximum number of iteration reached before convergence. Consider increasing max_iter to improve the fit.\n",
      "  warnings.warn(\"Maximum number of iteration reached before \"\n",
      "/usr/lib/python3.9/site-packages/sklearn/linear_model/_stochastic_gradient.py:574: ConvergenceWarning: Maximum number of iteration reached before convergence. Consider increasing max_iter to improve the fit.\n",
      "  warnings.warn(\"Maximum number of iteration reached before \"\n"
     ]
    }
   ],
   "metadata": {}
  },
  {
   "cell_type": "code",
   "execution_count": 9,
   "source": [
    "mean_time_PCA = sgd_PCA.cv_results_['mean_fit_time']\n",
    "mean_score_test_PCA = sgd_PCA.cv_results_['mean_test_score']\n",
    "mean_score_train_PCA = sgd_PCA.cv_results_['mean_train_score']\n",
    "best_score = sgd_PCA.best_score_"
   ],
   "outputs": [],
   "metadata": {}
  },
  {
   "cell_type": "code",
   "execution_count": 10,
   "source": [
    "sgd_Norm = SGDClassifier(random_state=42)\n",
    "t2 = time()\n",
    "sgd_Norm = GridSearchCV(sgd_Norm, param_grid, cv = 3, scoring = \"accuracy\", return_train_score= True)\n",
    "sgd_Norm.fit(dataNormal, y)\n",
    "t2f = time() - t2"
   ],
   "outputs": [
    {
     "output_type": "stream",
     "name": "stderr",
     "text": [
      "/usr/lib/python3.9/site-packages/sklearn/linear_model/_stochastic_gradient.py:574: ConvergenceWarning: Maximum number of iteration reached before convergence. Consider increasing max_iter to improve the fit.\n",
      "  warnings.warn(\"Maximum number of iteration reached before \"\n",
      "/usr/lib/python3.9/site-packages/sklearn/linear_model/_stochastic_gradient.py:574: ConvergenceWarning: Maximum number of iteration reached before convergence. Consider increasing max_iter to improve the fit.\n",
      "  warnings.warn(\"Maximum number of iteration reached before \"\n",
      "/usr/lib/python3.9/site-packages/sklearn/linear_model/_stochastic_gradient.py:574: ConvergenceWarning: Maximum number of iteration reached before convergence. Consider increasing max_iter to improve the fit.\n",
      "  warnings.warn(\"Maximum number of iteration reached before \"\n",
      "/usr/lib/python3.9/site-packages/sklearn/linear_model/_stochastic_gradient.py:574: ConvergenceWarning: Maximum number of iteration reached before convergence. Consider increasing max_iter to improve the fit.\n",
      "  warnings.warn(\"Maximum number of iteration reached before \"\n",
      "/usr/lib/python3.9/site-packages/sklearn/linear_model/_stochastic_gradient.py:574: ConvergenceWarning: Maximum number of iteration reached before convergence. Consider increasing max_iter to improve the fit.\n",
      "  warnings.warn(\"Maximum number of iteration reached before \"\n",
      "/usr/lib/python3.9/site-packages/sklearn/linear_model/_stochastic_gradient.py:574: ConvergenceWarning: Maximum number of iteration reached before convergence. Consider increasing max_iter to improve the fit.\n",
      "  warnings.warn(\"Maximum number of iteration reached before \"\n",
      "/usr/lib/python3.9/site-packages/sklearn/linear_model/_stochastic_gradient.py:574: ConvergenceWarning: Maximum number of iteration reached before convergence. Consider increasing max_iter to improve the fit.\n",
      "  warnings.warn(\"Maximum number of iteration reached before \"\n",
      "/usr/lib/python3.9/site-packages/sklearn/linear_model/_stochastic_gradient.py:574: ConvergenceWarning: Maximum number of iteration reached before convergence. Consider increasing max_iter to improve the fit.\n",
      "  warnings.warn(\"Maximum number of iteration reached before \"\n",
      "/usr/lib/python3.9/site-packages/sklearn/linear_model/_stochastic_gradient.py:574: ConvergenceWarning: Maximum number of iteration reached before convergence. Consider increasing max_iter to improve the fit.\n",
      "  warnings.warn(\"Maximum number of iteration reached before \"\n"
     ]
    }
   ],
   "metadata": {}
  },
  {
   "cell_type": "code",
   "execution_count": 64,
   "source": [
    "mean_time_Norm = sgd_Norm.cv_results_['mean_fit_time']\n",
    "mean_score_test_Norm = sgd_Norm.cv_results_['mean_test_score']\n",
    "mean_score_train_Norm = sgd_Norm.cv_results_['mean_train_score']\n",
    "best_score_Norm = sgd_Norm.best_score_"
   ],
   "outputs": [],
   "metadata": {}
  },
  {
   "cell_type": "code",
   "execution_count": 68,
   "source": [
    "mean_time_Norm.mean(), mean_time_PCA.mean(), mean_time_Norm.std(), mean_time_PCA.std()"
   ],
   "outputs": [
    {
     "output_type": "execute_result",
     "data": {
      "text/plain": [
       "(0.17498103165626525,\n",
       " 0.20922812056541443,\n",
       " 0.22309779893174533,\n",
       " 0.45538238771363143)"
      ]
     },
     "metadata": {},
     "execution_count": 68
    }
   ],
   "metadata": {}
  },
  {
   "cell_type": "code",
   "execution_count": 67,
   "source": [
    "dataNormal.shape, dataPCA.shape"
   ],
   "outputs": [
    {
     "output_type": "execute_result",
     "data": {
      "text/plain": [
       "((11872, 784), (11872, 154))"
      ]
     },
     "metadata": {},
     "execution_count": 67
    }
   ],
   "metadata": {}
  },
  {
   "cell_type": "code",
   "execution_count": 11,
   "source": [
    "dataPCA.head()"
   ],
   "outputs": [
    {
     "output_type": "execute_result",
     "data": {
      "text/plain": [
       "      Dim.1     Dim.2     Dim.3     Dim.4     Dim.5     Dim.6     Dim.7  \\\n",
       "0  7.589364 -6.994549 -3.203718 -0.720933 -0.358302 -1.890236 -1.511961   \n",
       "1 -9.660591  0.043732  1.337203 -2.415870 -2.199496  3.291451  1.099550   \n",
       "2 -8.899185 -3.375785  5.343431 -4.142884  7.270674 -2.286678 -2.211668   \n",
       "3  8.850089 -7.365411  0.335631  0.443949 -1.606654 -0.409394  0.811167   \n",
       "4 -8.424716 -2.117157  3.044943 -3.196267  4.845244 -4.216412 -3.250738   \n",
       "\n",
       "      Dim.8     Dim.9    Dim.10  ...   Dim.145   Dim.146   Dim.147   Dim.148  \\\n",
       "0  2.394898  0.704718 -1.228995  ...  1.078702 -0.373848 -0.188205 -0.668475   \n",
       "1  0.469458  0.482418 -1.435167  ...  1.554093 -0.031381 -0.258712  0.651991   \n",
       "2 -0.951417 -3.260294  5.449606  ...  1.200510 -1.493698  0.559193  0.539032   \n",
       "3  3.558623 -0.922689  0.163185  ... -1.432607  0.181500  1.916928  1.059648   \n",
       "4 -2.820634 -1.434179  1.131487  ...  0.561161  0.629965  0.245541 -0.015426   \n",
       "\n",
       "    Dim.149   Dim.150   Dim.151   Dim.152   Dim.153   Dim.154  \n",
       "0  0.347398 -0.575532  0.203589  0.078939 -0.479834 -0.301355  \n",
       "1  0.116356  0.609829  1.014142  1.223838  1.734102 -0.745995  \n",
       "2  1.610754  1.088935 -0.303855 -1.870212  0.701469  0.903630  \n",
       "3  0.317288 -0.576738  0.443504  0.190032 -0.152993 -0.094715  \n",
       "4  0.564932 -0.093006  0.090981 -0.890402 -0.140645 -0.909947  \n",
       "\n",
       "[5 rows x 154 columns]"
      ],
      "text/html": [
       "<div>\n",
       "<style scoped>\n",
       "    .dataframe tbody tr th:only-of-type {\n",
       "        vertical-align: middle;\n",
       "    }\n",
       "\n",
       "    .dataframe tbody tr th {\n",
       "        vertical-align: top;\n",
       "    }\n",
       "\n",
       "    .dataframe thead th {\n",
       "        text-align: right;\n",
       "    }\n",
       "</style>\n",
       "<table border=\"1\" class=\"dataframe\">\n",
       "  <thead>\n",
       "    <tr style=\"text-align: right;\">\n",
       "      <th></th>\n",
       "      <th>Dim.1</th>\n",
       "      <th>Dim.2</th>\n",
       "      <th>Dim.3</th>\n",
       "      <th>Dim.4</th>\n",
       "      <th>Dim.5</th>\n",
       "      <th>Dim.6</th>\n",
       "      <th>Dim.7</th>\n",
       "      <th>Dim.8</th>\n",
       "      <th>Dim.9</th>\n",
       "      <th>Dim.10</th>\n",
       "      <th>...</th>\n",
       "      <th>Dim.145</th>\n",
       "      <th>Dim.146</th>\n",
       "      <th>Dim.147</th>\n",
       "      <th>Dim.148</th>\n",
       "      <th>Dim.149</th>\n",
       "      <th>Dim.150</th>\n",
       "      <th>Dim.151</th>\n",
       "      <th>Dim.152</th>\n",
       "      <th>Dim.153</th>\n",
       "      <th>Dim.154</th>\n",
       "    </tr>\n",
       "  </thead>\n",
       "  <tbody>\n",
       "    <tr>\n",
       "      <th>0</th>\n",
       "      <td>7.589364</td>\n",
       "      <td>-6.994549</td>\n",
       "      <td>-3.203718</td>\n",
       "      <td>-0.720933</td>\n",
       "      <td>-0.358302</td>\n",
       "      <td>-1.890236</td>\n",
       "      <td>-1.511961</td>\n",
       "      <td>2.394898</td>\n",
       "      <td>0.704718</td>\n",
       "      <td>-1.228995</td>\n",
       "      <td>...</td>\n",
       "      <td>1.078702</td>\n",
       "      <td>-0.373848</td>\n",
       "      <td>-0.188205</td>\n",
       "      <td>-0.668475</td>\n",
       "      <td>0.347398</td>\n",
       "      <td>-0.575532</td>\n",
       "      <td>0.203589</td>\n",
       "      <td>0.078939</td>\n",
       "      <td>-0.479834</td>\n",
       "      <td>-0.301355</td>\n",
       "    </tr>\n",
       "    <tr>\n",
       "      <th>1</th>\n",
       "      <td>-9.660591</td>\n",
       "      <td>0.043732</td>\n",
       "      <td>1.337203</td>\n",
       "      <td>-2.415870</td>\n",
       "      <td>-2.199496</td>\n",
       "      <td>3.291451</td>\n",
       "      <td>1.099550</td>\n",
       "      <td>0.469458</td>\n",
       "      <td>0.482418</td>\n",
       "      <td>-1.435167</td>\n",
       "      <td>...</td>\n",
       "      <td>1.554093</td>\n",
       "      <td>-0.031381</td>\n",
       "      <td>-0.258712</td>\n",
       "      <td>0.651991</td>\n",
       "      <td>0.116356</td>\n",
       "      <td>0.609829</td>\n",
       "      <td>1.014142</td>\n",
       "      <td>1.223838</td>\n",
       "      <td>1.734102</td>\n",
       "      <td>-0.745995</td>\n",
       "    </tr>\n",
       "    <tr>\n",
       "      <th>2</th>\n",
       "      <td>-8.899185</td>\n",
       "      <td>-3.375785</td>\n",
       "      <td>5.343431</td>\n",
       "      <td>-4.142884</td>\n",
       "      <td>7.270674</td>\n",
       "      <td>-2.286678</td>\n",
       "      <td>-2.211668</td>\n",
       "      <td>-0.951417</td>\n",
       "      <td>-3.260294</td>\n",
       "      <td>5.449606</td>\n",
       "      <td>...</td>\n",
       "      <td>1.200510</td>\n",
       "      <td>-1.493698</td>\n",
       "      <td>0.559193</td>\n",
       "      <td>0.539032</td>\n",
       "      <td>1.610754</td>\n",
       "      <td>1.088935</td>\n",
       "      <td>-0.303855</td>\n",
       "      <td>-1.870212</td>\n",
       "      <td>0.701469</td>\n",
       "      <td>0.903630</td>\n",
       "    </tr>\n",
       "    <tr>\n",
       "      <th>3</th>\n",
       "      <td>8.850089</td>\n",
       "      <td>-7.365411</td>\n",
       "      <td>0.335631</td>\n",
       "      <td>0.443949</td>\n",
       "      <td>-1.606654</td>\n",
       "      <td>-0.409394</td>\n",
       "      <td>0.811167</td>\n",
       "      <td>3.558623</td>\n",
       "      <td>-0.922689</td>\n",
       "      <td>0.163185</td>\n",
       "      <td>...</td>\n",
       "      <td>-1.432607</td>\n",
       "      <td>0.181500</td>\n",
       "      <td>1.916928</td>\n",
       "      <td>1.059648</td>\n",
       "      <td>0.317288</td>\n",
       "      <td>-0.576738</td>\n",
       "      <td>0.443504</td>\n",
       "      <td>0.190032</td>\n",
       "      <td>-0.152993</td>\n",
       "      <td>-0.094715</td>\n",
       "    </tr>\n",
       "    <tr>\n",
       "      <th>4</th>\n",
       "      <td>-8.424716</td>\n",
       "      <td>-2.117157</td>\n",
       "      <td>3.044943</td>\n",
       "      <td>-3.196267</td>\n",
       "      <td>4.845244</td>\n",
       "      <td>-4.216412</td>\n",
       "      <td>-3.250738</td>\n",
       "      <td>-2.820634</td>\n",
       "      <td>-1.434179</td>\n",
       "      <td>1.131487</td>\n",
       "      <td>...</td>\n",
       "      <td>0.561161</td>\n",
       "      <td>0.629965</td>\n",
       "      <td>0.245541</td>\n",
       "      <td>-0.015426</td>\n",
       "      <td>0.564932</td>\n",
       "      <td>-0.093006</td>\n",
       "      <td>0.090981</td>\n",
       "      <td>-0.890402</td>\n",
       "      <td>-0.140645</td>\n",
       "      <td>-0.909947</td>\n",
       "    </tr>\n",
       "  </tbody>\n",
       "</table>\n",
       "<p>5 rows × 154 columns</p>\n",
       "</div>"
      ]
     },
     "metadata": {},
     "execution_count": 11
    }
   ],
   "metadata": {}
  }
 ],
 "metadata": {
  "orig_nbformat": 4,
  "language_info": {
   "name": "python",
   "version": "3.9.6",
   "mimetype": "text/x-python",
   "codemirror_mode": {
    "name": "ipython",
    "version": 3
   },
   "pygments_lexer": "ipython3",
   "nbconvert_exporter": "python",
   "file_extension": ".py"
  },
  "kernelspec": {
   "name": "python3",
   "display_name": "Python 3.9.6 64-bit"
  },
  "interpreter": {
   "hash": "e7370f93d1d0cde622a1f8e1c04877d8463912d04d973331ad4851f04de6915a"
  }
 },
 "nbformat": 4,
 "nbformat_minor": 2
}