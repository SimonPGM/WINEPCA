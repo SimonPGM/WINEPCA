{
 "cells": [
  {
   "cell_type": "code",
   "execution_count": 1,
   "source": [
    "#importando librerias en general\n",
    "import pandas as pd\n",
    "import numpy as np\n",
    "from time import time"
   ],
   "outputs": [],
   "metadata": {}
  },
  {
   "cell_type": "code",
   "execution_count": 2,
   "source": [
    "#cargando datasets\n",
    "dataPCAtrain = pd.read_csv(\"PCA_train.csv\") #datos en el espacio de las pca\n",
    "dataNormaltrain = pd.read_csv(\"train.csv\")\n",
    "ytrain = np.ravel(pd.read_csv(\"train_labels.csv\").values) #variable respuesta"
   ],
   "outputs": [],
   "metadata": {}
  },
  {
   "cell_type": "code",
   "execution_count": 52,
   "source": [
    "ytrain"
   ],
   "outputs": [
    {
     "output_type": "execute_result",
     "data": {
      "text/plain": [
       "array([5, 5, 5, ..., 6, 5, 7])"
      ]
     },
     "metadata": {},
     "execution_count": 52
    }
   ],
   "metadata": {}
  },
  {
   "cell_type": "code",
   "execution_count": 7,
   "source": [
    "tuple(np.concatenate((np.arange(100, 0, -25), [1])))"
   ],
   "outputs": [
    {
     "output_type": "execute_result",
     "data": {
      "text/plain": [
       "(100, 75, 50, 25, 1)"
      ]
     },
     "metadata": {},
     "execution_count": 7
    }
   ],
   "metadata": {}
  },
  {
   "cell_type": "code",
   "execution_count": 57,
   "source": [
    "#importing sklearn modules\n",
    "from sklearn.ensemble import RandomForestRegressor\n",
    "from sklearn.metrics import mean_squared_error, mean_absolute_error, mean_absolute_percentage_error\n",
    "from sklearn.model_selection import GridSearchCV"
   ],
   "outputs": [],
   "metadata": {}
  },
  {
   "cell_type": "code",
   "execution_count": 24,
   "source": [
    "# param_grid = {\"n_estimators\": ([2**i for i in range(6)] + [100, 200]),\n",
    "#     \"max_depth\": (list(range(5, 11)) + [25, 50]),\n",
    "#     \"max_leaf_nodes\": [4,5,6,7,8],\n",
    "#     \"max_features\": ['auto', 'sqrt', 'log2'],\n",
    "#     \"criterion\": ['gini', 'entropy']\n",
    "# }\n",
    "\n",
    "param_grid = {\"n_estimators\": ([2**i for i in range(6)] + [100, 200]),\n",
    "    \"max_depth\": (list(range(5, 11)) + [25, 50]),\n",
    "    \"max_leaf_nodes\": [4,5,6,7,8],\n",
    "    \"max_features\": ['auto', 'sqrt', 'log2']\n",
    "}"
   ],
   "outputs": [],
   "metadata": {}
  },
  {
   "cell_type": "code",
   "execution_count": 29,
   "source": [
    "mod_PCA = RandomForestRegressor(random_state=42)\n",
    "t1 = time()\n",
    "gs_PCA = GridSearchCV(mod_PCA, param_grid, cv = 3, scoring = \"neg_mean_squared_error\", return_train_score= True)\n",
    "gs_PCA.fit(dataPCAtrain, ytrain)\n",
    "t1f = time() - t1"
   ],
   "outputs": [],
   "metadata": {}
  },
  {
   "cell_type": "code",
   "execution_count": 45,
   "source": [
    "mean_time_PCA = gs_PCA.cv_results_['mean_fit_time']\n",
    "mean_score_test_PCA = np.sqrt(-gs_PCA.cv_results_['mean_test_score'])\n",
    "mean_score_train_PCA = np.sqrt(-gs_PCA.cv_results_['mean_train_score'])\n",
    "best_score = np.sqrt(-gs_PCA.best_score_)"
   ],
   "outputs": [],
   "metadata": {}
  },
  {
   "cell_type": "code",
   "execution_count": 42,
   "source": [
    "mod_Norm = RandomForestRegressor(random_state=42)\n",
    "t2 = time()\n",
    "gs_Norm = GridSearchCV(mod_Norm, param_grid, cv = 3, scoring = \"neg_mean_squared_error\", return_train_score= True)\n",
    "gs_Norm.fit(dataNormaltrain, ytrain)\n",
    "t2f = time() - t2"
   ],
   "outputs": [],
   "metadata": {}
  },
  {
   "cell_type": "code",
   "execution_count": 43,
   "source": [
    "mean_time_Norm = gs_Norm.cv_results_['mean_fit_time']\n",
    "mean_score_test_Norm = np.sqrt(-gs_Norm.cv_results_['mean_test_score'])\n",
    "mean_score_train_Norm = np.sqrt(-gs_Norm.cv_results_['mean_train_score'])\n",
    "best_score_Norm = np.sqrt(-gs_Norm.best_score_)"
   ],
   "outputs": [],
   "metadata": {}
  },
  {
   "cell_type": "code",
   "execution_count": 46,
   "source": [
    "best_score, best_score_Norm"
   ],
   "outputs": [
    {
     "output_type": "execute_result",
     "data": {
      "text/plain": [
       "(0.6901795261320118, 0.6721699116481785)"
      ]
     },
     "metadata": {},
     "execution_count": 46
    }
   ],
   "metadata": {}
  },
  {
   "cell_type": "code",
   "execution_count": 48,
   "source": [
    "list_PCA = {\"mean_score_test\": mean_score_test_PCA,\n",
    "    \"mean_score_train\": mean_score_train_PCA}\n",
    "list_Norm = {\"mean_score_test\": mean_score_test_Norm,\n",
    "    \"mean_score_train\": mean_score_train_Norm}"
   ],
   "outputs": [],
   "metadata": {}
  },
  {
   "cell_type": "code",
   "execution_count": 49,
   "source": [
    "df_PCA = pd.DataFrame(list_PCA)\n",
    "df_Norm = pd.DataFrame(list_Norm)"
   ],
   "outputs": [],
   "metadata": {}
  },
  {
   "cell_type": "code",
   "execution_count": 50,
   "source": [
    "df_PCA.to_csv(\"DatoscompPCA.csv\")\n",
    "df_Norm.to_csv(\"DatoscompNorm.csv\")"
   ],
   "outputs": [],
   "metadata": {}
  },
  {
   "cell_type": "code",
   "execution_count": 51,
   "source": [
    "mod_PCA = gs_PCA.best_estimator_\n",
    "mod_Norm = gs_Norm.best_estimator_"
   ],
   "outputs": [],
   "metadata": {}
  },
  {
   "cell_type": "code",
   "execution_count": 52,
   "source": [
    "ytrain = ytrain.reshape((1279, 1))"
   ],
   "outputs": [],
   "metadata": {}
  },
  {
   "cell_type": "code",
   "execution_count": 61,
   "source": [
    "PCA_predict = mod_PCA.predict(dataPCAtrain)\n",
    "mean_squared_error(ytrain, PCA_predict)\n",
    "mean_absolute_error(ytrain, PCA_predict)\n",
    "mean_absolute_percentage_error(ytrain, PCA_predict)"
   ],
   "outputs": [
    {
     "output_type": "execute_result",
     "data": {
      "text/plain": [
       "0.09527587332416398"
      ]
     },
     "metadata": {},
     "execution_count": 61
    }
   ],
   "metadata": {}
  },
  {
   "cell_type": "code",
   "execution_count": 62,
   "source": [
    "Norm_predict = mod_Norm.predict(dataNormaltrain)\n",
    "mean_squared_error(ytrain, Norm_predict)\n",
    "mean_absolute_error(ytrain, Norm_predict)\n",
    "mean_absolute_percentage_error(ytrain, Norm_predict)"
   ],
   "outputs": [
    {
     "output_type": "execute_result",
     "data": {
      "text/plain": [
       "0.09169760023980762"
      ]
     },
     "metadata": {},
     "execution_count": 62
    }
   ],
   "metadata": {}
  },
  {
   "cell_type": "code",
   "execution_count": 63,
   "source": [
    "test_Norm = pd.read_csv(\"test_wine.csv\")\n",
    "test_labels = pd.read_csv(\"test_labels.csv\").values.reshape((320,1))"
   ],
   "outputs": [],
   "metadata": {}
  },
  {
   "cell_type": "code",
   "execution_count": 72,
   "source": [
    "predicttest_Norm = mod_Norm.predict(test_Norm)\n",
    "d = {\"Modelo_Completo\": [np.sqrt(mean_squared_error(test_labels, predicttest_Norm)),\n",
    "mean_absolute_error(test_labels, predicttest_Norm),\n",
    "mean_absolute_percentage_error(test_labels, predicttest_Norm)]}"
   ],
   "outputs": [],
   "metadata": {}
  },
  {
   "cell_type": "code",
   "execution_count": 73,
   "source": [
    "test_pca = pd.read_csv(\"test_pca.csv\")\n",
    "predicttest_PCA = mod_PCA.predict(test_pca)\n",
    "d[\"Modelo_PCA\"] =  [np.sqrt(mean_squared_error(test_labels, predicttest_PCA)),\n",
    "mean_absolute_error(test_labels, predicttest_PCA),\n",
    "mean_absolute_percentage_error(test_labels, predicttest_PCA)]"
   ],
   "outputs": [],
   "metadata": {}
  },
  {
   "cell_type": "code",
   "execution_count": 79,
   "source": [
    "compfinaldf = pd.DataFrame(d, index = [\"RMSE\", \"MAE\", \"MAPE\"])\n",
    "compfinaldf[\"Porcentaje_de_error\"] = np.round(100*np.abs(compfinaldf.Modelo_Completo - compfinaldf.Modelo_PCA)/compfinaldf.Modelo_Completo, 2)\n",
    "compfinaldf"
   ],
   "outputs": [
    {
     "output_type": "execute_result",
     "data": {
      "text/plain": [
       "      Modelo_Completo  Modelo_PCA  Porcentaje_de_error\n",
       "RMSE         0.578407    0.611941                 5.80\n",
       "MAE          0.462858    0.492503                 6.40\n",
       "MAPE         0.086691    0.091648                 5.72"
      ],
      "text/html": [
       "<div>\n",
       "<style scoped>\n",
       "    .dataframe tbody tr th:only-of-type {\n",
       "        vertical-align: middle;\n",
       "    }\n",
       "\n",
       "    .dataframe tbody tr th {\n",
       "        vertical-align: top;\n",
       "    }\n",
       "\n",
       "    .dataframe thead th {\n",
       "        text-align: right;\n",
       "    }\n",
       "</style>\n",
       "<table border=\"1\" class=\"dataframe\">\n",
       "  <thead>\n",
       "    <tr style=\"text-align: right;\">\n",
       "      <th></th>\n",
       "      <th>Modelo_Completo</th>\n",
       "      <th>Modelo_PCA</th>\n",
       "      <th>Porcentaje_de_error</th>\n",
       "    </tr>\n",
       "  </thead>\n",
       "  <tbody>\n",
       "    <tr>\n",
       "      <th>RMSE</th>\n",
       "      <td>0.578407</td>\n",
       "      <td>0.611941</td>\n",
       "      <td>5.80</td>\n",
       "    </tr>\n",
       "    <tr>\n",
       "      <th>MAE</th>\n",
       "      <td>0.462858</td>\n",
       "      <td>0.492503</td>\n",
       "      <td>6.40</td>\n",
       "    </tr>\n",
       "    <tr>\n",
       "      <th>MAPE</th>\n",
       "      <td>0.086691</td>\n",
       "      <td>0.091648</td>\n",
       "      <td>5.72</td>\n",
       "    </tr>\n",
       "  </tbody>\n",
       "</table>\n",
       "</div>"
      ]
     },
     "metadata": {},
     "execution_count": 79
    }
   ],
   "metadata": {}
  },
  {
   "cell_type": "code",
   "execution_count": 80,
   "source": [
    "compfinaldf.to_csv(\"Compfinal.csv\")"
   ],
   "outputs": [],
   "metadata": {}
  }
 ],
 "metadata": {
  "orig_nbformat": 4,
  "language_info": {
   "name": "python",
   "version": "3.9.6",
   "mimetype": "text/x-python",
   "codemirror_mode": {
    "name": "ipython",
    "version": 3
   },
   "pygments_lexer": "ipython3",
   "nbconvert_exporter": "python",
   "file_extension": ".py"
  },
  "kernelspec": {
   "name": "python3",
   "display_name": "Python 3.9.6 64-bit"
  },
  "interpreter": {
   "hash": "e7370f93d1d0cde622a1f8e1c04877d8463912d04d973331ad4851f04de6915a"
  }
 },
 "nbformat": 4,
 "nbformat_minor": 2
}